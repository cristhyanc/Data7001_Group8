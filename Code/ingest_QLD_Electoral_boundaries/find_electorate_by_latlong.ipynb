{
 "cells": [
  {
   "cell_type": "code",
   "execution_count": 16,
   "metadata": {},
   "outputs": [
    {
     "name": "stderr",
     "output_type": "stream",
     "text": [
      "Loading required package: ggplot2\n",
      "\n",
      "Google's Terms of Service: https://cloud.google.com/maps-platform/terms/.\n",
      "\n",
      "Please cite ggmap if you use it! See citation(\"ggmap\") for details.\n",
      "\n"
     ]
    }
   ],
   "source": [
    "library(sp) #provides classes and methods for spatial data\n",
    "library(rgdal) #provides binding to Geospatial Data Abstraction Library (GDAL)\n",
    "library(rgeos) # provides interface to Geometry Engine - Open Source (GEOS)\n",
    "library(ggmap)\n",
    "# library(maptools)"
   ]
  },
  {
   "cell_type": "code",
   "execution_count": 30,
   "metadata": {},
   "outputs": [
    {
     "name": "stderr",
     "output_type": "stream",
     "text": [
      "Warning message in OGRSpatialRef(dsn, layer, morphFromESRI = morphFromESRI, dumpSRS = dumpSRS, :\n",
      "“Discarded datum Geocentric_Datum_of_Australia_1994 in CRS definition: +proj=longlat +ellps=GRS80 +towgs84=0,0,0,0,0,0,0 +no_defs”\n"
     ]
    },
    {
     "name": "stdout",
     "output_type": "stream",
     "text": [
      "OGR data source with driver: ESRI Shapefile \n",
      "Source: \"/Volumes/apv/CJRS/uni/03 UQ MDataSc/04 S2 2020/DATA7001/9 Group Project/infrastructure_by_electorate/2017 electorate boundaries/QSC_Extracted_Data_20200930_142910272000-85432/State_electoral_boundaries_2017.shp\", layer: \"State_electoral_boundaries_2017\"\n",
      "with 93 features\n",
      "It has 4 fields\n"
     ]
    },
    {
     "ename": "ERROR",
     "evalue": "Error in spTransform(electoral_boundaries_2017, CRSobj = NA): second argument needs to be of class CRS\n",
     "output_type": "error",
     "traceback": [
      "Error in spTransform(electoral_boundaries_2017, CRSobj = NA): second argument needs to be of class CRS\nTraceback:\n",
      "1. spTransform(electoral_boundaries_2017, CRSobj = NA)",
      "2. spTransform(electoral_boundaries_2017, CRSobj = NA)",
      "3. stop(\"second argument needs to be of class CRS\")"
     ]
    }
   ],
   "source": [
    "# read a shape file into an R object shape\n",
    "# * download shape file .shp from:\n",
    "# http://qldspatial.information.qld.gov.au/catalogue/custom/detail.page?fid={079E7EF8-30C5-4C1D-9ABF-3D196713694F}\n",
    "#\n",
    "electoral_boundaries_2017 <- readOGR(\"2017 electorate boundaries/QSC_Extracted_Data_20200930_142910272000-85432/State_electoral_boundaries_2017.shp\")"
   ]
  },
  {
   "cell_type": "code",
   "execution_count": 19,
   "metadata": {},
   "outputs": [],
   "source": [
    "# register Google API key\n",
    "# (To get this one needs to register for a billing account with Google Maps Platform.)\n",
    "register_google(key = \"[redacted]\")"
   ]
  },
  {
   "cell_type": "code",
   "execution_count": 75,
   "metadata": {
    "scrolled": true
   },
   "outputs": [
    {
     "name": "stderr",
     "output_type": "stream",
     "text": [
      "Source : https://maps.googleapis.com/maps/api/geocode/json?address=Brisbane+Airport&key=xxx\n",
      "\n"
     ]
    },
    {
     "data": {
      "text/html": [
       "FALSE"
      ],
      "text/latex": [
       "FALSE"
      ],
      "text/markdown": [
       "FALSE"
      ],
      "text/plain": [
       "[1] FALSE"
      ]
     },
     "metadata": {},
     "output_type": "display_data"
    },
    {
     "name": "stderr",
     "output_type": "stream",
     "text": [
      "Source : https://maps.googleapis.com/maps/api/geocode/json?address=The+Big+Peanut,+Kingaroy&key=xxx\n",
      "\n"
     ]
    },
    {
     "data": {
      "text/html": [
       "FALSE"
      ],
      "text/latex": [
       "FALSE"
      ],
      "text/markdown": [
       "FALSE"
      ],
      "text/plain": [
       "[1] FALSE"
      ]
     },
     "metadata": {},
     "output_type": "display_data"
    },
    {
     "name": "stderr",
     "output_type": "stream",
     "text": [
      "Source : https://maps.googleapis.com/maps/api/geocode/json?address=University+of+Queensland&key=xxx\n",
      "\n"
     ]
    },
    {
     "data": {
      "text/html": [
       "TRUE"
      ],
      "text/latex": [
       "TRUE"
      ],
      "text/markdown": [
       "TRUE"
      ],
      "text/plain": [
       "[1] TRUE"
      ]
     },
     "metadata": {},
     "output_type": "display_data"
    },
    {
     "name": "stderr",
     "output_type": "stream",
     "text": [
      "Source : https://maps.googleapis.com/maps/api/geocode/json?address=University+of+Queensland&key=xxx\n",
      "\n",
      "Warning message in RGEOSBinPredFunc(spgeom1, spgeom2, byid, func):\n",
      "“spgeom1 and spgeom2 have different proj4 strings”\n"
     ]
    },
    {
     "data": {
      "text/html": [
       "TRUE"
      ],
      "text/latex": [
       "TRUE"
      ],
      "text/markdown": [
       "TRUE"
      ],
      "text/plain": [
       "[1] TRUE"
      ]
     },
     "metadata": {},
     "output_type": "display_data"
    }
   ],
   "source": [
    "# Demonstration: determine whether a point is in an electorate.\n",
    "# Note that SuppressWarnings() is necessary to suppress lengthy warnings about inconsistent projection/coordinate system\n",
    "# between first and second argument to gContains(). This does not seem to point to any real problem in our case - we have\n",
    "# checked and confirmed that the comparison is working correctly.\n",
    "\n",
    "# is Brisbane Airport in electoral district of Noosa?\n",
    "suppressWarnings(gContains(shape[electoral_boundaries_2017@data$NAME==\"NOOSA\",], SpatialPoints(geocode(\"Brisbane Airport\"))))\n",
    "\n",
    "# is the Big Peanut in electoral district of Everton?\n",
    "suppressWarnings(gContains(shape[electoral_boundaries_2017@data$NAME==\"EVERTON\",], SpatialPoints(geocode(\"The Big Peanut, Kingaroy\"))))\n",
    "\n",
    "# is UQ in electoral district of Maiwar?\n",
    "suppressWarnings(gContains(shape[electoral_boundaries_2017@data$NAME==\"MAIWAR\",], SpatialPoints(geocode(\"University of Queensland\"))))\n",
    "\n",
    "gContains(shape[electoral_boundaries_2017@data$NAME==\"MAIWAR\",], SpatialPoints(geocode(\"University of Queensland\")))"
   ]
  },
  {
   "cell_type": "code",
   "execution_count": 57,
   "metadata": {},
   "outputs": [],
   "source": [
    "# We can extend this idea to take a function which takes a spatialpoint and searches for it\n",
    "# in each of the 93 electorates, and returns the name of the electorate in which it is\n",
    "# found:\n",
    "\n",
    "find_electorate <- function(spoint, electoral_boundaries) {\n",
    "        found_electorate = NA\n",
    "        for (electorate in electoral_boundaries@data$NAME) {\n",
    "                if(suppressWarnings(gContains(shape[shape@data$NAME==electorate,], spoint))) {\n",
    "                        found_electorate <- electorate\n",
    "                }\n",
    "        }\n",
    "        return(found_electorate)\n",
    "}"
   ]
  },
  {
   "cell_type": "code",
   "execution_count": 74,
   "metadata": {},
   "outputs": [
    {
     "name": "stderr",
     "output_type": "stream",
     "text": [
      "Source : https://maps.googleapis.com/maps/api/geocode/json?address=University+of+Queensland&key=xxx\n",
      "\n"
     ]
    },
    {
     "data": {
      "text/html": [
       "'MAIWAR'"
      ],
      "text/latex": [
       "'MAIWAR'"
      ],
      "text/markdown": [
       "'MAIWAR'"
      ],
      "text/plain": [
       "[1] \"MAIWAR\""
      ]
     },
     "metadata": {},
     "output_type": "display_data"
    },
    {
     "name": "stderr",
     "output_type": "stream",
     "text": [
      "Source : https://maps.googleapis.com/maps/api/geocode/json?address=Breakfast+Creek+Hotel,+Albion&key=xxx\n",
      "\n"
     ]
    },
    {
     "data": {
      "text/html": [
       "'CLAYFIELD'"
      ],
      "text/latex": [
       "'CLAYFIELD'"
      ],
      "text/markdown": [
       "'CLAYFIELD'"
      ],
      "text/plain": [
       "[1] \"CLAYFIELD\""
      ]
     },
     "metadata": {},
     "output_type": "display_data"
    }
   ],
   "source": [
    "# Demonstration:\n",
    "\n",
    "find_electorate(SpatialPoints(geocode(\"University of Queensland\")), electoral_boundaries_2017)\n",
    "find_electorate(SpatialPoints(geocode(\"Breakfast Creek Hotel, Albion\")), electoral_boundaries_2017)"
   ]
  },
  {
   "cell_type": "code",
   "execution_count": null,
   "metadata": {},
   "outputs": [],
   "source": [
    "find_electorate_by_latlong <- function(latitude, longitude, electorates) {\n",
    "        spoint <- SpatialPoints(tibble(lon=longitude, lat=latitude))\n",
    "        return(find_electorate(spoint, electorates))\n",
    "}"
   ]
  }
 ],
 "metadata": {
  "kernelspec": {
   "display_name": "R",
   "language": "R",
   "name": "ir"
  },
  "language_info": {
   "codemirror_mode": "r",
   "file_extension": ".r",
   "mimetype": "text/x-r-source",
   "name": "R",
   "pygments_lexer": "r",
   "version": "4.0.2"
  }
 },
 "nbformat": 4,
 "nbformat_minor": 4
}

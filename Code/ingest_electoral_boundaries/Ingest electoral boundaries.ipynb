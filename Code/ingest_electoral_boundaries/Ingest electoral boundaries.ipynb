{
 "cells": [
  {
   "cell_type": "code",
   "execution_count": 1,
   "metadata": {},
   "outputs": [
    {
     "name": "stderr",
     "output_type": "stream",
     "text": [
      "Loading required package: ggplot2\n",
      "\n",
      "Google's Terms of Service: https://cloud.google.com/maps-platform/terms/.\n",
      "\n",
      "Please cite ggmap if you use it! See citation(\"ggmap\") for details.\n",
      "\n",
      "Loading required package: sp\n",
      "\n",
      "Checking rgeos availability: TRUE\n",
      "\n",
      "rgdal: version: 1.5-16, (SVN revision 1050)\n",
      "Geospatial Data Abstraction Library extensions to R successfully loaded\n",
      "Loaded GDAL runtime: GDAL 3.1.1, released 2020/06/22\n",
      "Path to GDAL shared files: /Library/Frameworks/R.framework/Versions/4.0/Resources/library/rgdal/gdal\n",
      "GDAL binary built with GEOS: TRUE \n",
      "Loaded PROJ runtime: Rel. 6.3.1, February 10th, 2020, [PJ_VERSION: 631]\n",
      "Path to PROJ shared files: /Library/Frameworks/R.framework/Versions/4.0/Resources/library/rgdal/proj\n",
      "Linking to sp version:1.4-2\n",
      "To mute warnings of possible GDAL/OSR exportToProj4() degradation,\n",
      "use options(\"rgdal_show_exportToProj4_warnings\"=\"none\") before loading rgdal.\n",
      "\n",
      "rgeos version: 0.5-5, (SVN revision 640)\n",
      " GEOS runtime version: 3.8.1-CAPI-1.13.3 \n",
      " Linking to sp version: 1.4-2 \n",
      " Polygon checking: TRUE \n",
      "\n",
      "\n"
     ]
    }
   ],
   "source": [
    "# load a lot of libraries\n",
    "# lost track a bit and not sure whether all necessary\n",
    "library(ggmap)\n",
    "library(maptools)\n",
    "library(rgdal)\n",
    "library(sp)\n",
    "library(rgeos)"
   ]
  },
  {
   "cell_type": "markdown",
   "metadata": {},
   "source": [
    "pdf map of electorates:\n",
    "https://www.ecq.qld.gov.au/__data/assets/pdf_file/0010/3610/Final_93_SED_Queensland_2page.pdf"
   ]
  },
  {
   "cell_type": "code",
   "execution_count": null,
   "metadata": {},
   "outputs": [],
   "source": [
    "# read shape file into an R object\n",
    "# from http://qldspatial.information.qld.gov.au/catalogue/custom/detail.page?fid={079E7EF8-30C5-4C1D-9ABF-3D196713694F}\n",
    "shape <- readOGR(\"State_electoral_boundaries_2017.shp\")"
   ]
  },
  {
   "cell_type": "code",
   "execution_count": null,
   "metadata": {},
   "outputs": [],
   "source": [
    "# plot all electorates, from shape file, on top of Queensland map\n",
    "ggmap(get_map(location=\"Queensland\", source=\"google\", maptype=\"roadmap\", crop=FALSE, zoom=5)) + geom_polygon(data = shape, aes(x = long, y = lat, group = group))"
   ]
  },
  {
   "cell_type": "code",
   "execution_count": null,
   "metadata": {},
   "outputs": [],
   "source": [
    "# plot just one electorate\n",
    "ggmap(get_map(location=\"Queensland\", source=\"google\", maptype=\"roadmap\",crop=FALSE, zoom=5)) + geom_polygon(data = shape[shape@data$NAME==\"COOK\",], aes(x = long, y = lat, group = group))"
   ]
  },
  {
   "cell_type": "code",
   "execution_count": null,
   "metadata": {},
   "outputs": [],
   "source": [
    "# find the electorate which contains a point\n",
    "# find_electorate(SpatialPoints(geocode(\"Brisbane Airport\")), shape)\n",
    "# find_electorate(SpatialPoints(geocode(\"Royal Brisbane and Womens Hospital\")), shape)\n",
    "# find_electorate(SpatialPoints(geocode(\"Breakfast Creek Hotel\")), shape)\n",
    "# find_electorate(SpatialPoints(geocode(\"Hastings Street, Noosa Queensland\")), shape)\n",
    "# Note: to get geocode() to work you need to look into register_google\n",
    "find_electorate <- function(spoint, electorates) {\n",
    "        found_electorate = NULL\n",
    "        for (electorate in electorates@data$NAME) {\n",
    "                if(gContains(shape[shape@data$NAME==electorate,], spoint)) {\n",
    "                        found_electorate <- electorate\n",
    "                }\n",
    "        }\n",
    "        return(found_electorate)\n",
    "}"
   ]
  }
 ],
 "metadata": {
  "kernelspec": {
   "display_name": "R",
   "language": "R",
   "name": "ir"
  },
  "language_info": {
   "codemirror_mode": "r",
   "file_extension": ".r",
   "mimetype": "text/x-r-source",
   "name": "R",
   "pygments_lexer": "r",
   "version": "4.0.2"
  }
 },
 "nbformat": 4,
 "nbformat_minor": 4
}
